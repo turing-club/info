{
  "nbformat": 4,
  "nbformat_minor": 0,
  "metadata": {
    "colab": {
      "name": "PythonWorkshopJan21.ipynb",
      "version": "0.3.2",
      "provenance": [],
      "collapsed_sections": []
    },
    "kernelspec": {
      "name": "python3",
      "display_name": "Python 3"
    }
  },
  "cells": [
    {
      "metadata": {
        "id": "Elqv1hVquuYR",
        "colab_type": "text"
      },
      "cell_type": "markdown",
      "source": [
        "# Basics of Python\n",
        "\n",
        "Python is a pretty straightforward programming language to learn. If you have no experience with programming languages, then Python is a great place to start because **it's not strict about how you define things.** In other words, it tries to guess what you're doing and makes a lot of assumptions for you, so that you don't have to spell every little detail out. If you do have some experience with programming languages such as Java or C, then you might find Python quite refreshing because you don't have to define every single little detail in the code."
      ]
    },
    {
      "metadata": {
        "id": "u669BqsNxmDs",
        "colab_type": "text"
      },
      "cell_type": "markdown",
      "source": [
        "# Variables\n",
        "Virtually every programming language uses the concept of **variables**. These are essentially values that can be changed, either by you or by the computer. Variables in Python can represent numbers, strings of letters, and much more.\n",
        "\n",
        "Below, we've defined two variables, a and b. Try running the code block by clicking the play button."
      ]
    },
    {
      "metadata": {
        "id": "qFJzMzkHySCv",
        "colab_type": "code",
        "colab": {}
      },
      "cell_type": "code",
      "source": [
        "a = 2\n",
        "b = 4\n"
      ],
      "execution_count": 0,
      "outputs": []
    },
    {
      "metadata": {
        "id": "-MifOGk_ymKX",
        "colab_type": "text"
      },
      "cell_type": "markdown",
      "source": [
        "Now, before running the code below, try and guess what the output will be. When you run this code block, the result will appear below it."
      ]
    },
    {
      "metadata": {
        "id": "ljnNeNMUyx-7",
        "colab_type": "code",
        "colab": {}
      },
      "cell_type": "code",
      "source": [
        "a * b"
      ],
      "execution_count": 0,
      "outputs": []
    },
    {
      "metadata": {
        "id": "Y2EBdv-D_LFi",
        "colab_type": "text"
      },
      "cell_type": "markdown",
      "source": [
        "Variables can also be **strings** of characters (numbers and letters):"
      ]
    },
    {
      "metadata": {
        "id": "7uyGi7hp_YAZ",
        "colab_type": "code",
        "colab": {}
      },
      "cell_type": "code",
      "source": [
        "myString = \"Hello World\""
      ],
      "execution_count": 0,
      "outputs": []
    },
    {
      "metadata": {
        "id": "KMjopCyC_cpT",
        "colab_type": "text"
      },
      "cell_type": "markdown",
      "source": [
        "We can combine (or \"concatenate\") strings with the + sign, like so:"
      ]
    },
    {
      "metadata": {
        "id": "4bX-oii3_mRh",
        "colab_type": "code",
        "colab": {}
      },
      "cell_type": "code",
      "source": [
        "anotherString = \", my name is \"\n",
        "\n",
        "# For myName, try putting your name in \"Name\"!\n",
        "myName = \"Brandon\"\n",
        "\n",
        "fullString = myString + anotherString + myName\n",
        "\n",
        "# You can print the result of a variable like fullString with:\n",
        "print(fullString)"
      ],
      "execution_count": 0,
      "outputs": []
    },
    {
      "metadata": {
        "id": "4ol4r8NdBRzS",
        "colab_type": "text"
      },
      "cell_type": "markdown",
      "source": [
        "# Lists\n",
        "\n",
        "Lists are one of the main ways to work with data in Python. They're especially relevant for exploring machine learning since data manipulation is at the heart of machine learning. Later tonight, we'll show you how to import data and work with it; for now though, let's make a list!\n",
        "\n",
        "A Python list can contain numbers, strings, and more:\n"
      ]
    },
    {
      "metadata": {
        "id": "d-JTEEPNH0LU",
        "colab_type": "code",
        "colab": {}
      },
      "cell_type": "code",
      "source": [
        "myList = [1, 2, 3]\n",
        "anotherList = ['dog', 'cat', 'lizard']"
      ],
      "execution_count": 0,
      "outputs": []
    },
    {
      "metadata": {
        "id": "m7dHhDEaLzaP",
        "colab_type": "text"
      },
      "cell_type": "markdown",
      "source": [
        "You can access elements in lists by typing the list name followed by the position of the item in the list in square brackets, like so:"
      ]
    },
    {
      "metadata": {
        "id": "8Xckuxr_MAAS",
        "colab_type": "code",
        "colab": {}
      },
      "cell_type": "code",
      "source": [
        "# Counting in Python starts from 0!\n",
        "myList[0]\n",
        "myList[1]\n",
        "\n",
        "# We can combine items as before! We just need to convert numbers into strings, like so:\n",
        "myNewString = \"I have \" + str(myList[0]) + \" \" + anotherList[0]\n",
        "print(myNewString)"
      ],
      "execution_count": 0,
      "outputs": []
    },
    {
      "metadata": {
        "id": "ET1RO97POmpI",
        "colab_type": "text"
      },
      "cell_type": "markdown",
      "source": [
        "We can add items to the list at a later point, using the .append feature:"
      ]
    },
    {
      "metadata": {
        "id": "iwBvCDJDOuVP",
        "colab_type": "code",
        "colab": {}
      },
      "cell_type": "code",
      "source": [
        "myList.append(4)"
      ],
      "execution_count": 0,
      "outputs": []
    },
    {
      "metadata": {
        "id": "h5So7B4iPDDg",
        "colab_type": "text"
      },
      "cell_type": "markdown",
      "source": [
        "We can even append lists to each other, by using .extend:"
      ]
    },
    {
      "metadata": {
        "id": "gX70dAjLPJQJ",
        "colab_type": "code",
        "colab": {}
      },
      "cell_type": "code",
      "source": [
        "myNumbers = [8, 9, 10]\n",
        "myList.extend(myNumbers)\n",
        "print(myList)"
      ],
      "execution_count": 0,
      "outputs": []
    },
    {
      "metadata": {
        "id": "VyY-03UcZHPO",
        "colab_type": "text"
      },
      "cell_type": "markdown",
      "source": [
        "# Loops\n",
        "\n",
        "Often, you'll want to apply some computation or process to multiple pieces of data in a list. The most efficient way to do this is through **for loops**. \n",
        "\n",
        "To write a for loop, you need to define a list to iterate through, as well as a variable to represent the current value you're looking at in the loop. We'll do just that:"
      ]
    },
    {
      "metadata": {
        "id": "F6DK7uHiecGn",
        "colab_type": "code",
        "colab": {}
      },
      "cell_type": "code",
      "source": [
        "# First, we'll initalize a new, empty list that we'll use later:\n",
        "newList = []\n",
        "\n",
        "# Using our list from the last code block, myList, and a variable x that will be assigned the current value in the loop:\n",
        "for x in myList:\n",
        "  # We'll multiply each value x by 2 and add it to our new list!\n",
        "  newList.append(x * 2)\n",
        "  \n",
        "# Now, display the list after the loop is done\n",
        "print(newList)"
      ],
      "execution_count": 0,
      "outputs": []
    },
    {
      "metadata": {
        "id": "Gl2FBdJEgiGS",
        "colab_type": "text"
      },
      "cell_type": "markdown",
      "source": [
        "# Functions\n",
        "\n",
        "Whenever you're running a command like print(), you're running a **function** - a specific set of instructions that operates on the variable or value you put between the brackets. Functions are useful when you want to frequently reuse complex computations. You can create your own functions using def followed by the name of the function followed by brackets():"
      ]
    },
    {
      "metadata": {
        "id": "TDSDbfNxhCsx",
        "colab_type": "code",
        "colab": {}
      },
      "cell_type": "code",
      "source": [
        "# Let's make a function that inserts your name and age in a sentence!\n",
        "\n",
        "name = \"Brandon\" # Put your name here!\n",
        "\n",
        "otherName = \"Elias\"\n",
        "otherAge = 21\n",
        "\n",
        "age = 20 # Put your age here!\n",
        "\n",
        "def NameAdder(x, y):\n",
        "  \n",
        "  # The .format() method seen below is a better way to insert stuff into strings.\n",
        "  # Just put braces {} at any point in the string where you want to input a variable!\n",
        "  nameAgeString = \"Hi, my nane is {} and I'm {}\".format(x, str(y))\n",
        "  \n",
        "  return nameAgeString"
      ],
      "execution_count": 0,
      "outputs": []
    },
    {
      "metadata": {
        "id": "2TcG_1tYQGbJ",
        "colab_type": "text"
      },
      "cell_type": "markdown",
      "source": [
        "Now, let's run that function!"
      ]
    },
    {
      "metadata": {
        "id": "k8rlmt3eQIyb",
        "colab_type": "code",
        "colab": {}
      },
      "cell_type": "code",
      "source": [
        "mySentence = NameAdder(otherName, otherAge)\n",
        "print(mySentence)"
      ],
      "execution_count": 0,
      "outputs": []
    },
    {
      "metadata": {
        "id": "PfFBa9GiXgF4",
        "colab_type": "text"
      },
      "cell_type": "markdown",
      "source": [
        "# Reading in data from a CSV\n",
        "\n",
        "If you're interested in using Python to analyze data or make an artifcial intelligence program, you'll need to somehow load your data into Python.\n",
        "\n",
        "Importing data into Colab is quite easy. First, download the \"AAPL.csv\" file that we've posted on the Facebook event page. Then, at the top of the screen, click \"Help > Search code snippets...\". On the window that appears to the left, click on \"Files\", then \"Upload\". Find the \"AAPL.csv\" file you just downloaded and upload it here."
      ]
    },
    {
      "metadata": {
        "id": "AK870eauZnsC",
        "colab_type": "code",
        "colab": {}
      },
      "cell_type": "code",
      "source": [
        "## BACKUP CODE IF THE ABOVE METHOD DOESN'T WORK\n",
        "# Install the PyDrive wrapper & import libraries.\n",
        "# This only needs to be done once per notebook.\n",
        "!pip install -U -q PyDrive\n",
        "from pydrive.auth import GoogleAuth\n",
        "from pydrive.drive import GoogleDrive\n",
        "from google.colab import auth\n",
        "from oauth2client.client import GoogleCredentials\n",
        "\n",
        "# Authenticate and create the PyDrive client.\n",
        "# This only needs to be done once per notebook.\n",
        "auth.authenticate_user()\n",
        "gauth = GoogleAuth()\n",
        "gauth.credentials = GoogleCredentials.get_application_default()\n",
        "drive = GoogleDrive(gauth)\n",
        "\n",
        "# Download a file based on its file ID.\n",
        "# You can find the file ID by opening the CSV we've posted, and looking at\n",
        "# the string of numbers and letters after the URL!\n",
        "# A file ID looks like: laggVyWshwcyP6kEI-y_W3P8D26sz\n",
        "file_id = 'REPLACE_WITf dH_YOUR_FILE_ID'\n",
        "downloaded = drive.CreateFile({'id': file_id})\n",
        "print('Downloaded content \"{}\"'.format(downloaded.GetContentString()))"
      ],
      "execution_count": 0,
      "outputs": []
    },
    {
      "metadata": {
        "id": "E2qVqChEactb",
        "colab_type": "text"
      },
      "cell_type": "markdown",
      "source": [
        "Now that we've got the data file, it's time to install pandas. This is a very helpful python package (or set of features) that will make it easier for us to manipulate large amounts of data!"
      ]
    },
    {
      "metadata": {
        "id": "V6wmSl1ZawwO",
        "colab_type": "code",
        "colab": {}
      },
      "cell_type": "code",
      "source": [
        "# To install a package, we'd normally run 'pip install' followed by the package\n",
        "# name at the command line. In colab, since we don't have a command line, we'll\n",
        "# simply write '!pip install' followed by the package name - in this case, pandas.\n",
        "!pip install pandas"
      ],
      "execution_count": 0,
      "outputs": []
    },
    {
      "metadata": {
        "id": "QVBEWPlJcKgi",
        "colab_type": "text"
      },
      "cell_type": "markdown",
      "source": [
        "Now that we have pandas, we can start playing around with our data! \n",
        "\n",
        "First, we'll import our CSV file into Python with pandas:"
      ]
    },
    {
      "metadata": {
        "id": "Fv4pJOxCcn_E",
        "colab_type": "code",
        "colab": {}
      },
      "cell_type": "code",
      "source": [
        "import pandas as pd # this will let us refer to pandas as pd later on, to save space\n",
        "\n",
        "my_file = pd.read_csv(\"AAPL.csv\")"
      ],
      "execution_count": 0,
      "outputs": []
    },
    {
      "metadata": {
        "id": "B-JxHpQTmBVq",
        "colab_type": "code",
        "colab": {}
      },
      "cell_type": "code",
      "source": [
        ""
      ],
      "execution_count": 0,
      "outputs": []
    },
    {
      "metadata": {
        "id": "fPZq0qjZdfYF",
        "colab_type": "text"
      },
      "cell_type": "markdown",
      "source": [
        "Let's look at some useful things we can do with our data!\n",
        "\n",
        "We can convert it into a **dataframe**, which is a specific data structure that lets us work with our data in a more flexible way:"
      ]
    },
    {
      "metadata": {
        "id": "yJ68-4GkeXB4",
        "colab_type": "code",
        "colab": {}
      },
      "cell_type": "code",
      "source": [
        "# From now on, when we want to refer to our data we'll refer to df.\n",
        "df = pd.DataFrame(my_file)\n",
        "\n",
        "# Let's take a look at the first few rows of the file:\n",
        "df.head()"
      ],
      "execution_count": 0,
      "outputs": []
    },
    {
      "metadata": {
        "id": "r8U-oWitnsSZ",
        "colab_type": "text"
      },
      "cell_type": "markdown",
      "source": [
        "Now, let's dive into our dataframe! We can view indivudal columns like so:"
      ]
    },
    {
      "metadata": {
        "id": "tC9DmO1Mqcbj",
        "colab_type": "code",
        "colab": {}
      },
      "cell_type": "code",
      "source": [
        "# Selecting the column named A\n",
        "df['close']"
      ],
      "execution_count": 0,
      "outputs": []
    },
    {
      "metadata": {
        "id": "2P8JOtk8VOep",
        "colab_type": "code",
        "colab": {}
      },
      "cell_type": "code",
      "source": [
        "# Selecting the first 10 rows from a column (this is called \"slicing\")\n",
        "d = df['close']\n",
        "d[:5]"
      ],
      "execution_count": 0,
      "outputs": []
    },
    {
      "metadata": {
        "id": "a3qXIXKRVj8Q",
        "colab_type": "code",
        "colab": {}
      },
      "cell_type": "code",
      "source": [
        "#Selecting every other row from a column, in rows 1 to 50\n",
        "d[0:50:2]"
      ],
      "execution_count": 0,
      "outputs": []
    },
    {
      "metadata": {
        "id": "2pP_OUigqk5M",
        "colab_type": "text"
      },
      "cell_type": "markdown",
      "source": [
        "How about running some statistics on our data? That's easy to do with numpy, a useful package for working with numbers of all shapes and sizes. It works really well with pandas!"
      ]
    },
    {
      "metadata": {
        "id": "ryi1kE8vr4nw",
        "colab_type": "code",
        "colab": {}
      },
      "cell_type": "code",
      "source": [
        "# Selecting the column named 'open', again\n",
        "col_open = df['open']\n",
        "\n",
        "!pip install numpy\n",
        "import numpy as np\n",
        "\n",
        "# Let's get the mean of this column\n",
        "np.mean(col_open)"
      ],
      "execution_count": 0,
      "outputs": []
    },
    {
      "metadata": {
        "id": "V164G5Hds5s1",
        "colab_type": "text"
      },
      "cell_type": "markdown",
      "source": [
        "We can use numpy to other things besides stats! For example, we can generate some random numbers:\n"
      ]
    },
    {
      "metadata": {
        "id": "GXCUaQP-tFV0",
        "colab_type": "code",
        "colab": {}
      },
      "cell_type": "code",
      "source": [
        "# Create a time series of random numbers 'ts', starting on Jan. 1st, 2019 \n",
        "ts = pd.Series(np.random.randn(1000), index=pd.date_range('1/1/2019', periods=1000))"
      ],
      "execution_count": 0,
      "outputs": []
    },
    {
      "metadata": {
        "id": "pyOHdatqv7U7",
        "colab_type": "text"
      },
      "cell_type": "markdown",
      "source": [
        "And we can plot the resulting data, using matplotlib!"
      ]
    },
    {
      "metadata": {
        "id": "Yb6DRolrv9oY",
        "colab_type": "code",
        "colab": {}
      },
      "cell_type": "code",
      "source": [
        "!pip install matplotlib\n",
        "import matplotlib.pyplot as plt\n",
        "\n",
        "\n",
        "x = df['date']\n",
        "y = df['open']\n",
        "\n",
        "plt.plot(x, y)\n",
        "plt.show()\n",
        "\n",
        "# Take the cumulative sum of the above data series, for our plot\n",
        "ts = ts.cumsum()"
      ],
      "execution_count": 0,
      "outputs": []
    }
  ]
}