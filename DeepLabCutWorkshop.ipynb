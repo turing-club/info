{
  "nbformat": 4,
  "nbformat_minor": 0,
  "metadata": {
    "colab": {
      "name": "DeepLabCutWorkshop.ipynb",
      "provenance": [],
      "collapsed_sections": [],
      "toc_visible": true,
      "include_colab_link": true
    },
    "kernelspec": {
      "name": "python3",
      "display_name": "Python 3"
    },
    "accelerator": "TPU"
  },
  "cells": [
    {
      "cell_type": "markdown",
      "metadata": {
        "id": "view-in-github",
        "colab_type": "text"
      },
      "source": [
        "<a href=\"https://colab.research.google.com/github/turing-club/info/blob/master/DeepLabCutWorkshop.ipynb\" target=\"_parent\"><img src=\"https://colab.research.google.com/assets/colab-badge.svg\" alt=\"Open In Colab\"/></a>"
      ]
    },
    {
      "cell_type": "markdown",
      "metadata": {
        "id": "ZZjBbyYwkePi",
        "colab_type": "text"
      },
      "source": [
        "# DeepLabCut\n",
        "\n",
        "DeepLabCut is a powerful yet easy-to-use tool for tracking movement in just about any moving object, from a mouse's paws to a horse's legs to a human's facial muscles and everything in between! All you need to do is label some images of your desired animal or object moving, and DeepLabCut will do the rest. Of course, we'll also look at how DeepLabCut works as well!\n",
        "\n",
        "The first step is to go to \"Runtime\" ->\"change runtime type\"->select \"Python3\", then click on \"TPU\" (more details below!)"
      ]
    },
    {
      "cell_type": "markdown",
      "metadata": {
        "id": "xsu44MOS0217",
        "colab_type": "text"
      },
      "source": [
        "# Setup"
      ]
    },
    {
      "cell_type": "code",
      "metadata": {
        "id": "Qald89D1n8yb",
        "colab_type": "code",
        "colab": {}
      },
      "source": [
        "# We'll be using Tensor Processing Units (TPUs), which are specialized versions of graphics cards that are designed for high-performance \n",
        "# machine learning. Google gives everyone a few TPUs to use in each Colab environment! But remember, with great power comes great responsibility :)\n",
        "\n",
        "# Don't worry about the code below; we're just checking to make sure that we can access the TPUs!\n",
        "!nvcc --version\n",
        "\n",
        "#let's make sure we see a TPU:\n",
        "import os\n",
        "import pprint\n",
        "import tensorflow as tf\n",
        "\n",
        "if 'COLAB_TPU_ADDR' not in os.environ:\n",
        "  print('ERROR: Not connected to a TPU runtime; please see the first cell in this notebook for instructions!')\n",
        "else:\n",
        "  tpu_address = 'grpc://' + os.environ['COLAB_TPU_ADDR']\n",
        "  print ('TPU address is', tpu_address)\n",
        "\n",
        "  with tf.Session(tpu_address) as session:\n",
        "    devices = session.list_devices()\n",
        "    \n",
        "  print('TPU devices:')\n",
        "  pprint.pprint(devices)"
      ],
      "execution_count": 0,
      "outputs": []
    },
    {
      "cell_type": "markdown",
      "metadata": {
        "id": "TM6YlWQLrU-Y",
        "colab_type": "text"
      },
      "source": [
        "# Downloading the data"
      ]
    },
    {
      "cell_type": "markdown",
      "metadata": {
        "id": "hgLHkWQ1o5PJ",
        "colab_type": "text"
      },
      "source": [
        "Now, download the file we've linked on our github to your computer - this contains the project you'll be working with, including the images you'll be labelling! Run the next code block, click \"Choose Files\", and select the file you've just downloaded (\"workshop_project-Turing-2019-02-22.zip\")!"
      ]
    },
    {
      "cell_type": "code",
      "metadata": {
        "id": "JKFuC7vejSXA",
        "colab_type": "code",
        "colab": {}
      },
      "source": [
        "from google.colab import files\n",
        "uploaded = files.upload()\n",
        "\n",
        "!unzip workshop_project-Turing-2019-02-27"
      ],
      "execution_count": 0,
      "outputs": []
    },
    {
      "cell_type": "code",
      "metadata": {
        "id": "pHNlRVrIjn_M",
        "colab_type": "code",
        "colab": {}
      },
      "source": [
        "# Using pip (the python package installer), we will install DeepLabCut! A lot of stuff is going to be printed out; just click the three dots to the right and select \"Clear output\".\n",
        "!pip install deeplabcut"
      ],
      "execution_count": 0,
      "outputs": []
    },
    {
      "cell_type": "code",
      "metadata": {
        "id": "JsjEl_74pnhU",
        "colab_type": "code",
        "colab": {}
      },
      "source": [
        "# Don't worry about the contents of this code! \n",
        "# These are some Colab specific work-arounds, but they work! (typically not required, as they are installed with \"pip install deeplabcut\")\n",
        "\n",
        "!pip install Pillow==4.0.0\n",
        "\n",
        "from PIL import Image\n",
        "def register_extension(id, extension): Image.EXTENSION[extension.lower()] = id.upper()\n",
        "Image.register_extension = register_extension\n",
        "def register_extensions(id, extensions): \n",
        "  for extension in extensions: register_extension(id, extension)\n",
        "Image.register_extensions = register_extensions\n",
        "\n",
        "!pip install ruamel.yaml==0.15\n",
        "!pip install pandas==0.21.0"
      ],
      "execution_count": 0,
      "outputs": []
    },
    {
      "cell_type": "code",
      "metadata": {
        "id": "JI71J4mspxa_",
        "colab_type": "code",
        "colab": {}
      },
      "source": [
        "# The non-Colab version of DeepLabCut lets you label the images for your model using a special interface. Sadly, Colab doesn't support this so we'll\n",
        "# be labelling the images on our own computers (don't worry, this is very straightforward)! We just need to disable the special interface so that it\n",
        "# doesn't cause problems.\n",
        "\n",
        "import os\n",
        "os.environ[\"DLClight\"]=\"True\"\n",
        "os.environ[\"Colab\"]=\"True\""
      ],
      "execution_count": 0,
      "outputs": []
    },
    {
      "cell_type": "code",
      "metadata": {
        "id": "E6UJDt8mrriJ",
        "colab_type": "code",
        "colab": {}
      },
      "source": [
        "# We can now import the deeplabcut package!\n",
        "import deeplabcut"
      ],
      "execution_count": 0,
      "outputs": []
    },
    {
      "cell_type": "markdown",
      "metadata": {
        "id": "VG8FLYLFSY4Y",
        "colab_type": "text"
      },
      "source": [
        "## Configuring your dataset\n",
        "\n"
      ]
    },
    {
      "cell_type": "code",
      "metadata": {
        "id": "TBG6ij9hRMO1",
        "colab_type": "code",
        "colab": {}
      },
      "source": [
        "# Now it's time to tell Colab where our config file is! We will be editing this file later.\n",
        "path_config_file = 'workshop_project-Turing-2019-02-27/config.yaml'"
      ],
      "execution_count": 0,
      "outputs": []
    },
    {
      "cell_type": "markdown",
      "metadata": {
        "id": "wHdTWcBRr2NL",
        "colab_type": "text"
      },
      "source": [
        "## Create a training dataset:\n",
        "### You must do this step inside of Colab:\n",
        "This function generates the training data information for DeepCut (which requires a mat file) based on the pandas dataframes that hold label information. The user can set the fraction of the training set size (from all labeled image in the hd5 file) in the config.yaml file. While creating the dataset, the user can create multiple shuffles. \n",
        "\n",
        "After running this script the training dataset is created and saved in the project directory under the subdirectory **'training-datasets'**\n",
        "\n",
        "This function also creates new subdirectories under **dlc-models** and appends the project config.yaml file with the correct path to the training and testing pose configuration file. These files hold the parameters for training the network. Such an example file is provided with the toolbox and named as **pose_cfg.yaml**.\n",
        "\n",
        "Now it is the time to start training the network!"
      ]
    },
    {
      "cell_type": "code",
      "metadata": {
        "id": "gIBRvItKOWRi",
        "colab_type": "code",
        "colab": {}
      },
      "source": [
        "deeplabcut.create_training_dataset(path_config_file)"
      ],
      "execution_count": 0,
      "outputs": []
    },
    {
      "cell_type": "markdown",
      "metadata": {
        "id": "h5YtRqtrO1gs",
        "colab_type": "text"
      },
      "source": [
        "## Start Training:\n",
        "This function trains the network for a specific shuffle of the training dataset."
      ]
    },
    {
      "cell_type": "code",
      "metadata": {
        "id": "x5JOnhCPPC8V",
        "colab_type": "code",
        "colab": {}
      },
      "source": [
        "# Shuffle is just a setting for whether or not you'll shuffle the data (just leave it as it is). displayiters lets you set how often\n",
        "# DeepLabCut will print out data during the training (keeping it at 10 will keep you up to date with the analysis). saveiters lets\n",
        "# you set how often the model will be saved. This is useful because it lets you restart from a checkpoint if you have to stop the training early.\n",
        "\n",
        "deeplabcut.train_network(path_config_file, shuffle = 1)"
      ],
      "execution_count": 0,
      "outputs": []
    },
    {
      "cell_type": "markdown",
      "metadata": {
        "id": "JPoQ3CwvP7I5",
        "colab_type": "text"
      },
      "source": [
        "When you stop this code it will show a \"KeyError\". Don't worry, this is supposed to happen :)"
      ]
    },
    {
      "cell_type": "markdown",
      "metadata": {
        "id": "pAGe3LinQGnH",
        "colab_type": "text"
      },
      "source": [
        "## Start Analyzing Videos: \n",
        "Now, it's time to put the model we've just trained to the test! This function analyzes a new video for the movement you've just trained. The user can choose the best model from the evaluation results and specify the correct snapshot index for the variable **snapshotindex** in the **config.yaml** file. Otherwise, by default the most recent snapshot is used to analyse the video.\n",
        "\n",
        "The results are stored in an hd5 file in the same directory where the video resides."
      ]
    },
    {
      "cell_type": "code",
      "metadata": {
        "id": "CRHQ5T8lQLg6",
        "colab_type": "code",
        "colab": {}
      },
      "source": [
        "videofile_path = ['workshop_project-Turing-2019-02-27/videos/MovieS2_Perturbation_noLaser_compressed.avi'] #Enter the list of videos to analyze.\n",
        "deeplabcut.analyze_videos(path_config_file, videofile_path)"
      ],
      "execution_count": 0,
      "outputs": []
    },
    {
      "cell_type": "markdown",
      "metadata": {
        "id": "XMmB1HztQ2Cw",
        "colab_type": "text"
      },
      "source": [
        "## Create labeled video:\n",
        "Here, we'll overlay the predicted movement of the animal on the video we've created! This labelled video will be saved in the same directory where the original video resides. "
      ]
    },
    {
      "cell_type": "code",
      "metadata": {
        "id": "QXwWa3IoRJ2r",
        "colab_type": "code",
        "colab": {}
      },
      "source": [
        "deeplabcut.create_labeled_video(path_config_file, videofile_path)"
      ],
      "execution_count": 0,
      "outputs": []
    },
    {
      "cell_type": "markdown",
      "metadata": {
        "id": "t2letGGSROKd",
        "colab_type": "text"
      },
      "source": [
        "## Plot the trajectories of the analyzed videos:\n",
        "Lastly, we'll plot the trajectories of the body part movement predicted by the model. Each body part is identified by a unique color."
      ]
    },
    {
      "cell_type": "code",
      "metadata": {
        "id": "_61ZJhQHRaTH",
        "colab_type": "code",
        "colab": {}
      },
      "source": [
        "#for making interactive plots.\n",
        "%matplotlib notebook \n",
        "deeplabcut.plot_trajectories(path_config_file, videofile_path)"
      ],
      "execution_count": 0,
      "outputs": []
    }
  ]
}